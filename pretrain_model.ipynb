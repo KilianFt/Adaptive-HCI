{
 "cells": [
  {
   "cell_type": "code",
   "execution_count": 1,
   "metadata": {},
   "outputs": [
    {
     "name": "stderr",
     "output_type": "stream",
     "text": [
      "/opt/homebrew/lib/python3.10/site-packages/torchvision/io/image.py:13: UserWarning: Failed to load image Python extension: dlopen(/opt/homebrew/lib/python3.10/site-packages/torchvision/image.so, 0x0006): Symbol not found: __ZN2at4_ops19empty_memory_format4callEN3c108ArrayRefIxEENS2_8optionalINS2_10ScalarTypeEEENS5_INS2_6LayoutEEENS5_INS2_6DeviceEEENS5_IbEENS5_INS2_12MemoryFormatEEE\n",
      "  Referenced from: <06D2C3BD-26E5-3AB9-A866-63839BE393A7> /opt/homebrew/lib/python3.10/site-packages/torchvision/image.so\n",
      "  Expected in:     <59ED1CF5-3CD8-3592-A70B-3AB98E4C5F21> /opt/homebrew/lib/python3.10/site-packages/torch/lib/libtorch_cpu.dylib\n",
      "  warn(f\"Failed to load image Python extension: {e}\")\n"
     ]
    }
   ],
   "source": [
    "import pickle\n",
    "import os\n",
    "import time\n",
    "\n",
    "import numpy as np\n",
    "import matplotlib.pyplot as plt\n",
    "import seaborn as sns\n",
    "from scipy.io import loadmat\n",
    "from sklearn.model_selection import train_test_split\n",
    "from sklearn.metrics import accuracy_score\n",
    "\n",
    "import torch\n",
    "from torch.utils.data import Dataset\n",
    "from torch.utils.data import DataLoader\n",
    "import torch.nn as nn\n",
    "import torch.optim as optim\n",
    "\n",
    "from vit_pytorch import ViT"
   ]
  },
  {
   "cell_type": "code",
   "execution_count": 2,
   "metadata": {},
   "outputs": [],
   "source": [
    "sampling_rate = 200 # Hz\n",
    "window_length = sampling_rate # 1 second\n",
    "overlap = 0"
   ]
  },
  {
   "cell_type": "markdown",
   "metadata": {},
   "source": [
    "## MyoArmband Dataset"
   ]
  },
  {
   "cell_type": "code",
   "execution_count": 3,
   "metadata": {},
   "outputs": [],
   "source": [
    "def get_raw_dataset(eval_path):\n",
    "    person_folders = os.listdir(eval_path)\n",
    "\n",
    "    first_folder = os.listdir(eval_path)[0]\n",
    "    keys = next(os.walk((eval_path+first_folder)))[1]\n",
    "\n",
    "    number_of_classes = 7\n",
    "    size_non_overlap = window_length - overlap\n",
    "\n",
    "    raw_dataset_dict = {}\n",
    "    for key in keys:\n",
    "            \n",
    "        raw_dataset = {\n",
    "            'examples': [],\n",
    "            'labels': [],\n",
    "        }\n",
    "        list_dataset = []\n",
    "        list_labels = []\n",
    "        for person_dir in person_folders:\n",
    "            examples = []\n",
    "            labels = []\n",
    "            data_path = eval_path + person_dir + '/' + key\n",
    "            for data_file in os.listdir(data_path):\n",
    "                if (data_file.endswith(\".dat\")):\n",
    "                    data_read_from_file = np.fromfile((data_path+'/'+data_file), dtype=np.int16)\n",
    "                    data_read_from_file = np.array(data_read_from_file, dtype=np.float32)\n",
    "\n",
    "                    dataset_example_formatted = []\n",
    "                    example = []\n",
    "                    emg_vector = []\n",
    "                    for value in data_read_from_file:\n",
    "                        emg_vector.append(value)\n",
    "                        if (len(emg_vector) >= 8):\n",
    "                            if (example == []):\n",
    "                                example = emg_vector\n",
    "                            else:\n",
    "                                example = np.row_stack((example, emg_vector))\n",
    "                            emg_vector = []\n",
    "                            if (len(example) >= window_length):\n",
    "                                example = example.transpose()\n",
    "                                dataset_example_formatted.append(example)\n",
    "                                example = example.transpose()\n",
    "                                example = example[size_non_overlap:]\n",
    "                    dataset_example_formatted = np.array(dataset_example_formatted)\n",
    "                    examples.append(dataset_example_formatted)\n",
    "                    data_file_index = int(data_file.split('classe_')[1][:-4])\n",
    "                    label = data_file_index % number_of_classes + np.zeros(dataset_example_formatted.shape[0])\n",
    "                    labels.append(label)\n",
    "\n",
    "            raw_dataset['examples'].append(np.concatenate(examples))\n",
    "            raw_dataset['labels'].append(np.concatenate(labels))\n",
    "\n",
    "        raw_dataset_dict[key] = raw_dataset\n",
    "\n",
    "    return raw_dataset_dict"
   ]
  },
  {
   "cell_type": "code",
   "execution_count": 4,
   "metadata": {},
   "outputs": [
    {
     "name": "stderr",
     "output_type": "stream",
     "text": [
      "/var/folders/k8/_qw1v4gj2cv9cqh75_yrt3pc0000gn/T/ipykernel_70143/2355956401.py:34: DeprecationWarning: elementwise comparison failed; this will raise an error in the future.\n",
      "  if (example == []):\n"
     ]
    }
   ],
   "source": [
    "train_path = 'datasets/MyoArmbandDataset/PreTrainingDataset/'\n",
    "eval_path = 'datasets/MyoArmbandDataset/EvaluationDataset/'\n",
    "\n",
    "eval_raw_dataset_dict = get_raw_dataset(eval_path)\n",
    "train_raw_dataset_dict = get_raw_dataset(train_path)"
   ]
  },
  {
   "cell_type": "code",
   "execution_count": 5,
   "metadata": {},
   "outputs": [],
   "source": [
    "mad_all_windows = eval_raw_dataset_dict['training0']['examples'] + \\\n",
    "                    eval_raw_dataset_dict['Test0']['examples'] + \\\n",
    "                    eval_raw_dataset_dict['Test1']['examples'] + \\\n",
    "                    train_raw_dataset_dict['training0']['examples']\n",
    "\n",
    "mad_all_labels = eval_raw_dataset_dict['training0']['labels'] + \\\n",
    "                    eval_raw_dataset_dict['Test0']['labels'] + \\\n",
    "                    eval_raw_dataset_dict['Test1']['labels'] + \\\n",
    "                    train_raw_dataset_dict['training0']['labels']"
   ]
  },
  {
   "cell_type": "code",
   "execution_count": 6,
   "metadata": {},
   "outputs": [],
   "source": [
    "# filter by labels\n",
    "mad_windows = None\n",
    "mad_labels = None\n",
    "for mad_p_examples, mad_p_labels in zip(mad_all_windows, mad_all_labels):\n",
    "    label_map = (mad_p_labels >= 0) & (mad_p_labels <= 4)\n",
    "    mad_subject_windows = mad_p_examples[label_map]\n",
    "    subject_labels = mad_p_labels[label_map]\n",
    "\n",
    "    if mad_windows is None:\n",
    "        mad_windows = mad_subject_windows\n",
    "        mad_labels = subject_labels\n",
    "    else:\n",
    "        mad_windows = np.concatenate((mad_windows, mad_subject_windows))\n",
    "        mad_labels = np.concatenate((mad_labels, subject_labels))"
   ]
  },
  {
   "cell_type": "code",
   "execution_count": 7,
   "metadata": {},
   "outputs": [],
   "source": [
    "# move_map = {\n",
    "#     0: 'Neutral', \n",
    "#     1: 'Radial Deviation', # up\n",
    "#     2: 'Wrist Flexion', # left\n",
    "#     3: 'Ulnar Deviation', # down\n",
    "#     4: 'Wrist Extension', # right\n",
    "#     }\n",
    "def labels_to_dof(label):\n",
    "    label_to_dof_map = {\n",
    "        0: np.array([0.,0.]), # neutral\n",
    "        1: np.array([0.,-1.]), # left\n",
    "        2: np.array([-1.,0.]), # back\n",
    "        3: np.array([0.,1.]), # right\n",
    "        4: np.array([1.,0.]), # front\n",
    "    }\n",
    "    return label_to_dof_map[label]"
   ]
  },
  {
   "cell_type": "code",
   "execution_count": 8,
   "metadata": {},
   "outputs": [],
   "source": [
    "def labels_to_onehot(label):\n",
    "    onehot = np.zeros(5)\n",
    "    onehot[int(label)] = 1\n",
    "    return onehot"
   ]
  },
  {
   "cell_type": "code",
   "execution_count": 9,
   "metadata": {},
   "outputs": [],
   "source": [
    "mad_dof_labels = np.array([labels_to_dof(label) for label in mad_labels])\n",
    "mad_onehot_labels = np.array([labels_to_onehot(label) for label in mad_labels])"
   ]
  },
  {
   "cell_type": "markdown",
   "metadata": {},
   "source": [
    "## Nina Pro DB5"
   ]
  },
  {
   "cell_type": "code",
   "execution_count": 30,
   "metadata": {},
   "outputs": [],
   "source": [
    "emg_min = -128.\n",
    "emg_max = 127.\n",
    "stride = window_length - overlap"
   ]
  },
  {
   "cell_type": "code",
   "execution_count": 31,
   "metadata": {},
   "outputs": [],
   "source": [
    "def create_window_dataset(X, y, desired_labels = None):\n",
    "    features_dataset = {key: [] for key in np.unique(y)}\n",
    "    last_class_idx = None\n",
    "    consequetive_features = []\n",
    "\n",
    "    for class_idx, feature in zip(y, X):\n",
    "        if class_idx != last_class_idx:\n",
    "            if consequetive_features:\n",
    "                features_dataset[class_idx].append(np.array(consequetive_features))\n",
    "            consequetive_features = [feature]\n",
    "            last_class_idx = class_idx\n",
    "        else:\n",
    "            consequetive_features.append(feature)\n",
    "\n",
    "    if consequetive_features:\n",
    "        features_dataset[class_idx].append(np.array(consequetive_features))\n",
    "\n",
    "    windows = []\n",
    "    labels = []\n",
    "    for class_idx, feature_list in features_dataset.items():\n",
    "        if desired_labels is None or class_idx in desired_labels:\n",
    "            for consequetive_features in feature_list:\n",
    "                num_windows = (consequetive_features.shape[0] - window_length) // stride + 1\n",
    "                for i in range(num_windows):\n",
    "                    start = i * stride\n",
    "                    end = start + window_length\n",
    "                    window = consequetive_features[start:end, :]\n",
    "                    windows.append(window)\n",
    "                    labels.append(class_idx)\n",
    "\n",
    "    return np.array(windows, dtype=np.float32), np.array(labels, dtype=int)"
   ]
  },
  {
   "cell_type": "code",
   "execution_count": 32,
   "metadata": {},
   "outputs": [
    {
     "name": "stdout",
     "output_type": "stream",
     "text": [
      "S5_E2_A1.mat\n",
      "S2_E2_A1.mat\n",
      "S3_E2_A1.mat\n",
      "S4_E2_A1.mat\n",
      "S10_E2_A1.mat\n",
      "S8_E2_A1.mat\n",
      "S1_E2_A1.mat\n",
      "S6_E2_A1.mat\n",
      "S7_E2_A1.mat\n",
      "S9_E2_A1.mat\n"
     ]
    }
   ],
   "source": [
    "ninapro_windows = None\n",
    "ninapro_labels = None\n",
    "\n",
    "ninapro_base_dir = 'datasets/ninapro/DB5/'\n",
    "\n",
    "ninapro_person_dirs = next(os.walk(ninapro_base_dir))[1]\n",
    "for nina_person_dir in ninapro_person_dirs:\n",
    "    subject_id = nina_person_dir[-1]\n",
    "    files = os.listdir(ninapro_base_dir + nina_person_dir)\n",
    "    for file in files:\n",
    "        if file.endswith('E2_A1.mat'):\n",
    "            print(file)\n",
    "            filepath = ninapro_base_dir + nina_person_dir + '/' + file\n",
    "\n",
    "            ninapro_s1 = loadmat(filepath)\n",
    "\n",
    "            ninapro_s_x_raw = ninapro_s1['emg'][:, :8]\n",
    "            ninapro_s_x = np.interp(ninapro_s_x_raw, (emg_min, emg_max), (-1, +1))\n",
    "            ninapro_s_y = ninapro_s1['restimulus'].squeeze()\n",
    "\n",
    "            subject_windows, subject_labels = create_window_dataset(X = ninapro_s_x, y = ninapro_s_y, desired_labels = [0,13,14,15,16])\n",
    "\n",
    "            if ninapro_windows is None:\n",
    "                ninapro_windows = subject_windows\n",
    "                ninapro_labels = subject_labels\n",
    "            else:\n",
    "                ninapro_windows = np.concatenate((ninapro_windows, subject_windows))\n",
    "                ninapro_labels = np.concatenate((ninapro_labels, subject_labels))\n",
    "\n",
    "ninapro_windows = ninapro_windows.swapaxes(1,2)\n",
    "\n",
    "# replace labels\n",
    "label_map = {0: 0,\n",
    "             13: 2,\n",
    "             14: 4,\n",
    "             15: 1,\n",
    "             16: 3,\n",
    "             }\n",
    "\n",
    "ninapro_mapped_labels = np.vectorize(label_map.get)(ninapro_labels)\n",
    "ninapro_dof_labels = np.array([labels_to_dof(label) for label in ninapro_mapped_labels])\n",
    "ninapro_onehot_labels = np.array([labels_to_onehot(label) for label in ninapro_mapped_labels])"
   ]
  },
  {
   "cell_type": "code",
   "execution_count": 33,
   "metadata": {},
   "outputs": [
    {
     "data": {
      "text/plain": [
       "array([-1.,  0.,  1.])"
      ]
     },
     "execution_count": 33,
     "metadata": {},
     "output_type": "execute_result"
    }
   ],
   "source": [
    "np.unique(ninapro_dof_labels)"
   ]
  },
  {
   "cell_type": "markdown",
   "metadata": {},
   "source": [
    "## Build dataloader"
   ]
  },
  {
   "cell_type": "code",
   "execution_count": 36,
   "metadata": {},
   "outputs": [
    {
     "data": {
      "text/plain": [
       "((4639, 8, 200), (4639, 5))"
      ]
     },
     "execution_count": 36,
     "metadata": {},
     "output_type": "execute_result"
    }
   ],
   "source": [
    "ninapro_windows.shape, ninapro_onehot_labels.shape"
   ]
  },
  {
   "cell_type": "code",
   "execution_count": 35,
   "metadata": {},
   "outputs": [
    {
     "data": {
      "text/plain": [
       "((6548, 8, 200), (6548, 5))"
      ]
     },
     "execution_count": 35,
     "metadata": {},
     "output_type": "execute_result"
    }
   ],
   "source": [
    "mad_windows.shape, mad_onehot_labels.shape"
   ]
  },
  {
   "cell_type": "code",
   "execution_count": 37,
   "metadata": {},
   "outputs": [
    {
     "data": {
      "text/plain": [
       "((11187, 8, 200), (11187, 5))"
      ]
     },
     "execution_count": 37,
     "metadata": {},
     "output_type": "execute_result"
    }
   ],
   "source": [
    "# combine mad and ninapro data\n",
    "windows = np.concatenate((mad_windows, ninapro_windows))\n",
    "labels = np.concatenate((mad_onehot_labels, ninapro_onehot_labels))\n",
    "n_labels = len(np.unique(labels))\n",
    "windows.shape, labels.shape"
   ]
  },
  {
   "cell_type": "code",
   "execution_count": 12,
   "metadata": {},
   "outputs": [
    {
     "data": {
      "text/plain": [
       "((6548, 8, 200), (6548, 5))"
      ]
     },
     "execution_count": 12,
     "metadata": {},
     "output_type": "execute_result"
    }
   ],
   "source": [
    "# combine mad and ninapro data\n",
    "windows = mad_windows\n",
    "labels = mad_onehot_labels\n",
    "n_labels = len(np.unique(labels))\n",
    "windows.shape, labels.shape"
   ]
  },
  {
   "cell_type": "code",
   "execution_count": 13,
   "metadata": {},
   "outputs": [],
   "source": [
    "train_x, test_x, train_y, test_y = train_test_split(windows, labels)"
   ]
  },
  {
   "cell_type": "code",
   "execution_count": 14,
   "metadata": {},
   "outputs": [],
   "source": [
    "class CustomEMGDataset(Dataset):\n",
    "    def __init__(self, x_samples, y_samples):\n",
    "        self.x_samples = x_samples\n",
    "        self.y_samples = y_samples\n",
    "\n",
    "    def __len__(self):\n",
    "        return len(self.x_samples)\n",
    "    \n",
    "    def __getitem__(self, idx):\n",
    "        x_tensor = torch.tensor(self.x_samples[idx,:,:])\n",
    "        y_tensor = torch.tensor(self.y_samples[idx]).type(torch.float32)\n",
    "        return x_tensor, y_tensor"
   ]
  },
  {
   "cell_type": "code",
   "execution_count": 15,
   "metadata": {},
   "outputs": [],
   "source": [
    "train_dataset = CustomEMGDataset(train_x, train_y)\n",
    "train_dataloader = DataLoader(train_dataset, batch_size=32, shuffle=True)\n",
    "\n",
    "test_dataset = CustomEMGDataset(test_x, test_y)\n",
    "test_dataloader = DataLoader(test_dataset, batch_size=32, shuffle=True)"
   ]
  },
  {
   "cell_type": "code",
   "execution_count": 16,
   "metadata": {},
   "outputs": [],
   "source": [
    "x, y = next(iter(test_dataloader))"
   ]
  },
  {
   "cell_type": "code",
   "execution_count": 17,
   "metadata": {},
   "outputs": [
    {
     "data": {
      "text/plain": [
       "<AxesSubplot:>"
      ]
     },
     "execution_count": 17,
     "metadata": {},
     "output_type": "execute_result"
    },
    {
     "data": {
      "image/png": "[encoded data removed]",
      "text/plain": [
       "<Figure size 640x480 with 2 Axes>"
      ]
     },
     "metadata": {},
     "output_type": "display_data"
    }
   ],
   "source": [
    "sns.heatmap(x[0,:,:])"
   ]
  },
  {
   "cell_type": "markdown",
   "metadata": {},
   "source": [
    "## Train model"
   ]
  },
  {
   "cell_type": "code",
   "execution_count": 18,
   "metadata": {},
   "outputs": [],
   "source": [
    "class FFNN(nn.Module):\n",
    "    def __init__(self, input_size, hidden_size, output_size):\n",
    "        super(FFNN, self).__init__()\n",
    "        self.flatten = nn.Flatten(start_dim=1)\n",
    "        self.linear_relu_stack = nn.Sequential(\n",
    "            nn.Linear(input_size, hidden_size),\n",
    "            nn.ReLU(),\n",
    "            nn.Linear(hidden_size, hidden_size),\n",
    "            nn.ReLU(),\n",
    "            nn.Linear(hidden_size, hidden_size),\n",
    "            nn.ReLU(),\n",
    "            nn.Linear(hidden_size, hidden_size),\n",
    "            nn.ReLU(),\n",
    "            nn.Linear(hidden_size, output_size),\n",
    "        )\n",
    "\n",
    "    def forward(self, x):\n",
    "        x = self.flatten(x)\n",
    "        out = self.linear_relu_stack(x)\n",
    "        return out"
   ]
  },
  {
   "cell_type": "code",
   "execution_count": 19,
   "metadata": {},
   "outputs": [],
   "source": [
    "train_features, train_labels = next(iter(train_dataloader))"
   ]
  },
  {
   "cell_type": "code",
   "execution_count": 20,
   "metadata": {},
   "outputs": [],
   "source": [
    "device = 'mps'"
   ]
  },
  {
   "cell_type": "code",
   "execution_count": 37,
   "metadata": {},
   "outputs": [],
   "source": [
    "model = FFNN(200*8, 128, labels.shape[1]).to(device)"
   ]
  },
  {
   "cell_type": "code",
   "execution_count": 33,
   "metadata": {},
   "outputs": [
    {
     "data": {
      "text/plain": [
       "torch.Size([32, 5])"
      ]
     },
     "execution_count": 33,
     "metadata": {},
     "output_type": "execute_result"
    }
   ],
   "source": [
    "model(train_features.to(device)).shape"
   ]
  },
  {
   "cell_type": "code",
   "execution_count": 41,
   "metadata": {},
   "outputs": [],
   "source": [
    "model = ViT(\n",
    "    image_size = 200,\n",
    "    patch_size = 8,\n",
    "    num_classes = labels.shape[1],\n",
    "    dim = 64,\n",
    "    depth = 1,\n",
    "    heads = 2,\n",
    "    mlp_dim = 128,\n",
    "    dropout = 0.1,\n",
    "    emb_dropout = 0.1,\n",
    "    channels=1,\n",
    ").to(device) \n",
    "\n",
    "img = torch.randn(10, 1, 8, 200).to(device)\n",
    "\n",
    "preds = model(img)"
   ]
  },
  {
   "cell_type": "code",
   "execution_count": 42,
   "metadata": {},
   "outputs": [],
   "source": [
    "from sklearn.metrics import mean_squared_error"
   ]
  },
  {
   "cell_type": "code",
   "execution_count": 43,
   "metadata": {},
   "outputs": [],
   "source": [
    "# criterion = nn.CrossEntropyLoss()\n",
    "criterion = nn.MSELoss()\n",
    "optimizer = optim.Adam(model.parameters(), lr=1e-3)"
   ]
  },
  {
   "cell_type": "code",
   "execution_count": 44,
   "metadata": {},
   "outputs": [
    {
     "name": "stdout",
     "output_type": "stream",
     "text": [
      "test MSE 0.10658048\n",
      "test acc 0.39435096153846155\n",
      "test MSE 0.10081299\n",
      "test acc 0.45072115384615385\n",
      "test MSE 0.09207633\n",
      "test acc 0.578125\n",
      "test MSE 0.08119353\n",
      "test acc 0.6216346153846154\n",
      "test MSE 0.07330389\n",
      "test acc 0.7098557692307692\n",
      "test MSE 0.072631076\n",
      "test acc 0.6992788461538461\n",
      "test MSE 0.0689359\n",
      "test acc 0.7433894230769231\n",
      "test MSE 0.064030744\n",
      "test acc 0.7569711538461538\n",
      "test MSE 0.060590625\n",
      "test acc 0.752764423076923\n",
      "test MSE 0.059133723\n",
      "test acc 0.7668269230769231\n",
      "test MSE 0.061192553\n",
      "test acc 0.7461538461538461\n",
      "test MSE 0.059436586\n",
      "test acc 0.7674278846153846\n",
      "test MSE 0.058341198\n",
      "test acc 0.7701923076923076\n",
      "test MSE 0.05787752\n",
      "test acc 0.7689903846153846\n",
      "test MSE 0.058510885\n",
      "test acc 0.7677884615384615\n",
      "test MSE 0.05897265\n",
      "test acc 0.7669471153846155\n",
      "test MSE 0.05683472\n",
      "test acc 0.776201923076923\n",
      "test MSE 0.055478852\n",
      "test acc 0.7743990384615385\n",
      "test MSE 0.056023493\n",
      "test acc 0.7749999999999999\n",
      "test MSE 0.0547208\n",
      "test acc 0.7858173076923076\n",
      "Finished Training\n"
     ]
    }
   ],
   "source": [
    "history = {\n",
    "    'accs': [],\n",
    "    'test_mse': [],\n",
    "    'losses': [],\n",
    "}\n",
    "\n",
    "for epoch in range(20):\n",
    "\n",
    "    running_loss = 0.0\n",
    "    for i, data in enumerate(train_dataloader, 0):\n",
    "        model.train()\n",
    "\n",
    "        train_inputs, train_labels = data\n",
    "        train_inputs = train_inputs.to(device)\n",
    "        train_labels = train_labels.to(device)\n",
    "\n",
    "        if model.__class__.__name__ == 'ViT':\n",
    "            train_inputs.unsqueeze_(axis=1)\n",
    "\n",
    "        optimizer.zero_grad()\n",
    "\n",
    "        outputs = model(train_inputs)\n",
    "        loss = criterion(outputs, train_labels)\n",
    "\n",
    "        loss.backward()\n",
    "        optimizer.step()\n",
    "\n",
    "        running_loss += loss.item()\n",
    "        history['losses'].append(loss.item())\n",
    "        if i % 1000 == 999:    # print every 100 mini-batches\n",
    "            print(f'[{epoch + 1}, {i + 1:5d}] loss: {running_loss / 1000:.8f}')\n",
    "            running_loss = 0.0\n",
    "\n",
    "    accs = []\n",
    "    test_mse_list = []\n",
    "    for data in test_dataloader:\n",
    "        test_inputs, test_labels = data\n",
    "        test_inputs = test_inputs.to(device)\n",
    "        test_labels = test_labels.to(device)\n",
    "        if model.__class__.__name__ == 'ViT':\n",
    "            test_inputs.unsqueeze_(axis=1)\n",
    "        model.eval()\n",
    "        with torch.no_grad():\n",
    "            outputs = model(test_inputs)\n",
    "            # predicted_labels = outputs.cpu().max(dim=1).indices\n",
    "            predictions = outputs.cpu().squeeze().numpy()\n",
    "\n",
    "            predicted_onehot = np.zeros_like(predictions)\n",
    "            predicted_onehot[predictions > 0.5] = 1\n",
    "\n",
    "        test_labels = test_labels.cpu()\n",
    "        acc = accuracy_score(test_labels, predicted_onehot)\n",
    "        accs.append(acc)\n",
    "\n",
    "        test_labels = test_labels.cpu()\n",
    "        acc = accuracy_score(test_labels, predicted_onehot)\n",
    "        test_mse = mean_squared_error(test_labels, predictions)\n",
    "        accs.append(acc)\n",
    "        test_mse_list.append(test_mse)\n",
    "\n",
    "    history['accs'].append( np.mean(accs))\n",
    "    history['test_mse'].append(np.mean(test_mse_list))\n",
    "\n",
    "    print('test MSE', np.mean(test_mse_list))\n",
    "    print('test acc', np.mean(accs))\n",
    "\n",
    "print('Finished Training')"
   ]
  },
  {
   "cell_type": "code",
   "execution_count": 45,
   "metadata": {},
   "outputs": [
    {
     "data": {
      "text/plain": [
       "0.7728365384615384"
      ]
     },
     "execution_count": 45,
     "metadata": {},
     "output_type": "execute_result"
    }
   ],
   "source": [
    "accs = []\n",
    "test_mse_list = []\n",
    "for data in test_dataloader:\n",
    "    test_inputs, test_labels = data\n",
    "    test_inputs = test_inputs.to(device)\n",
    "    test_labels = test_labels.to(device)\n",
    "    if model.__class__.__name__ == 'ViT':\n",
    "        test_inputs.unsqueeze_(axis=1)\n",
    "    model.eval()\n",
    "    with torch.no_grad():\n",
    "        outputs = model(test_inputs)\n",
    "        \n",
    "        predictions = outputs.cpu().squeeze().numpy()\n",
    "        predicted_labels = np.zeros_like(predictions)\n",
    "        predicted_labels[predictions > 0.5] = 1\n",
    "\n",
    "    test_labels = test_labels.cpu()\n",
    "    acc = accuracy_score(test_labels, predicted_labels)\n",
    "    accs.append(acc)\n",
    "np.mean(accs)"
   ]
  },
  {
   "cell_type": "code",
   "execution_count": 46,
   "metadata": {},
   "outputs": [
    {
     "data": {
      "text/plain": [
       "[<matplotlib.lines.Line2D at 0x289f8c490>]"
      ]
     },
     "execution_count": 46,
     "metadata": {},
     "output_type": "execute_result"
    },
    {
     "data": {
      "image/png": "[encoded data removed]",
      "text/plain": [
       "<Figure size 640x480 with 1 Axes>"
      ]
     },
     "metadata": {},
     "output_type": "display_data"
    }
   ],
   "source": [
    "plt.plot(history['accs'])"
   ]
  },
  {
   "cell_type": "code",
   "execution_count": null,
   "metadata": {},
   "outputs": [],
   "source": [
    "from sklearn.preprocessing import normalize"
   ]
  },
  {
   "cell_type": "code",
   "execution_count": 54,
   "metadata": {},
   "outputs": [],
   "source": [
    "signal = np.array([0.5, -0.44])"
   ]
  },
  {
   "cell_type": "code",
   "execution_count": 104,
   "metadata": {},
   "outputs": [],
   "source": [
    "# turn labels into dof\n",
    "def onehot_to_dof(onehot_vector):\n",
    "    label_to_dof = {\n",
    "        0: [0, 0],\n",
    "        1: [0, -1], # left\n",
    "        2: [-1, 0], # back\n",
    "        3: [0, 1], # right\n",
    "        4: [1, 0], # front\n",
    "    }\n",
    "\n",
    "    # FIXME pass DOF arg\n",
    "    dof_cmd = np.zeros(2, dtype=np.float32)\n",
    "    for class_idx, is_active in enumerate(onehot_vector):\n",
    "        if bool(is_active):\n",
    "            dof_cmd += np.array(label_to_dof[class_idx])\n",
    "\n",
    "    dof_cmd = dof_cmd / np.linalg.norm(dof_cmd) if np.linalg.norm(dof_cmd) > 0 else np.zeros(2)\n",
    "\n",
    "    return dof_cmd"
   ]
  },
  {
   "cell_type": "code",
   "execution_count": 105,
   "metadata": {},
   "outputs": [
    {
     "data": {
      "text/plain": [
       "array([-0.70710678,  0.70710678])"
      ]
     },
     "execution_count": 105,
     "metadata": {},
     "output_type": "execute_result"
    }
   ],
   "source": [
    "single_pred = np.array([1,0,1,1,0])\n",
    "onehot_to_dof(single_pred)"
   ]
  },
  {
   "cell_type": "code",
   "execution_count": 106,
   "metadata": {},
   "outputs": [
    {
     "data": {
      "text/plain": [
       "[<matplotlib.lines.Line2D at 0x2a4fd1300>]"
      ]
     },
     "execution_count": 106,
     "metadata": {},
     "output_type": "execute_result"
    },
    {
     "data": {
      "image/png": "[encoded data removed]",
      "text/plain": [
       "<Figure size 640x480 with 1 Axes>"
      ]
     },
     "metadata": {},
     "output_type": "display_data"
    }
   ],
   "source": [
    "plt.plot(history['test_mse'])"
   ]
  },
  {
   "cell_type": "code",
   "execution_count": 47,
   "metadata": {},
   "outputs": [
    {
     "data": {
      "text/plain": [
       "[<matplotlib.lines.Line2D at 0x299b3e1d0>]"
      ]
     },
     "execution_count": 47,
     "metadata": {},
     "output_type": "execute_result"
    },
    {
     "data": {
      "image/png": "[encoded data removed]",
      "text/plain": [
       "<Figure size 640x480 with 1 Axes>"
      ]
     },
     "metadata": {},
     "output_type": "display_data"
    }
   ],
   "source": [
    "plt.plot(history['losses'])"
   ]
  },
  {
   "cell_type": "code",
   "execution_count": 108,
   "metadata": {},
   "outputs": [],
   "source": [
    "single_test_dataloader = DataLoader(test_dataset, batch_size=1, shuffle=True)"
   ]
  },
  {
   "cell_type": "code",
   "execution_count": 109,
   "metadata": {},
   "outputs": [
    {
     "data": {
      "text/plain": [
       "(416.5998462539175, 'Hz')"
      ]
     },
     "execution_count": 109,
     "metadata": {},
     "output_type": "execute_result"
    }
   ],
   "source": [
    "dts = []\n",
    "for data in single_test_dataloader:\n",
    "    inputs, labels = data\n",
    "    inputs = inputs.to(device)\n",
    "    labels = labels.to(device)\n",
    "    if model.__class__.__name__ == 'ViT':\n",
    "        inputs.unsqueeze_(axis=1)\n",
    "    model.eval()\n",
    "    start_time = time.time()\n",
    "    with torch.no_grad():\n",
    "        outputs = model(inputs)\n",
    "        predicted_labels = outputs.cpu().max(dim=1).indices\n",
    "\n",
    "    dt = time.time() - start_time\n",
    "    dts.append(dt)\n",
    "\n",
    "dts = np.array(dts)[1:]\n",
    "1 / dts[1:].mean(), 'Hz'"
   ]
  },
  {
   "cell_type": "code",
   "execution_count": 49,
   "metadata": {},
   "outputs": [],
   "source": [
    "torch.save(model.cpu(), 'models/pretrained_vit_onehot_mad.pt')"
   ]
  },
  {
   "cell_type": "code",
   "execution_count": 615,
   "metadata": {},
   "outputs": [],
   "source": [
    "model_state_dict = model.state_dict()\n",
    "torch.save(model_state_dict, 'pretained_vit_state_dict.pt')"
   ]
  },
  {
   "cell_type": "code",
   "execution_count": 652,
   "metadata": {},
   "outputs": [],
   "source": [
    "model_loaded = torch.load('pretained_vit_2.pt').to(device)"
   ]
  },
  {
   "cell_type": "code",
   "execution_count": 655,
   "metadata": {},
   "outputs": [
    {
     "data": {
      "text/plain": [
       "tensor([[ 0.0303, -1.2299,  0.7546, -1.1609, -0.4045]], device='mps:0',\n",
       "       grad_fn=<LinearBackward0>)"
      ]
     },
     "execution_count": 655,
     "metadata": {},
     "output_type": "execute_result"
    }
   ],
   "source": [
    "test_input = torch.randn(1,1,8,200).to(device)\n",
    "model_loaded(test_input)"
   ]
  },
  {
   "cell_type": "code",
   "execution_count": 653,
   "metadata": {},
   "outputs": [
    {
     "name": "stdout",
     "output_type": "stream",
     "text": [
      "test accuracy 0.6832932692307693\n"
     ]
    }
   ],
   "source": [
    "accs = []\n",
    "for data in test_dataloader:\n",
    "    test_inputs, test_labels = data\n",
    "    test_inputs = test_inputs.to(device)\n",
    "    test_labels = test_labels.to(device)\n",
    "    if model_loaded.__class__.__name__ == 'ViT':\n",
    "        test_inputs.unsqueeze_(axis=1)\n",
    "    model_loaded.eval()\n",
    "    with torch.no_grad():\n",
    "        outputs = model_loaded(test_inputs)\n",
    "        predicted_labels = outputs.cpu().max(dim=1).indices\n",
    "\n",
    "    test_labels = test_labels.cpu()\n",
    "    acc = accuracy_score(test_labels, predicted_labels)\n",
    "    accs.append(acc)\n",
    "\n",
    "history['accs'].append( np.mean(accs))\n",
    "print('test accuracy', np.mean(accs))"
   ]
  },
  {
   "cell_type": "markdown",
   "metadata": {},
   "source": [
    "# Transfer learning"
   ]
  },
  {
   "cell_type": "markdown",
   "metadata": {},
   "source": [
    "**TODO**\n",
    "Try if this improves performance\n",
    "\n",
    "https://github.com/KevinMusgrave/pytorch-adapt/blob/main/examples/getting_started/PaperImplementationsAsHooks.ipynb"
   ]
  },
  {
   "cell_type": "code",
   "execution_count": null,
   "metadata": {},
   "outputs": [],
   "source": [
    "import copy\n",
    "from pprint import pprint\n",
    "\n",
    "import torch\n",
    "\n",
    "from pytorch_adapt.hooks import MCDHook\n",
    "from pytorch_adapt.layers import MultipleModels, SlicedWasserstein\n",
    "from pytorch_adapt.utils import common_functions as c_f"
   ]
  },
  {
   "cell_type": "code",
   "execution_count": 23,
   "metadata": {},
   "outputs": [],
   "source": [
    "# Models\n",
    "# Encoder\n",
    "G = torch.nn.Linear(1000, 100)\n",
    "# CLassification head\n",
    "C = torch.nn.Linear(100, 10)\n",
    "\n",
    "D = torch.nn.Sequential(torch.nn.Linear(100, 1), torch.nn.Flatten(start_dim=0))\n",
    "G_opt = torch.optim.Adam(G.parameters())\n",
    "C_opt = torch.optim.Adam(C.parameters())\n",
    "D_opt = torch.optim.Adam(D.parameters())\n",
    "\n",
    "dataset_size = 10000\n",
    "# 1 batch of data\n",
    "example_data = {\n",
    "    \"src_imgs\": torch.randn(32, 1000),\n",
    "    \"target_imgs\": torch.randn(32, 1000),\n",
    "    \"src_labels\": torch.randint(0, 10, size=(32,)),\n",
    "    \"src_domain\": torch.zeros(32),\n",
    "    \"target_domain\": torch.zeros(32),\n",
    "    \"src_sample_idx\": torch.randint(0, dataset_size, size=(32,)),\n",
    "    \"target_sample_idx\": torch.randint(0, dataset_size, size=(32,)),\n",
    "}\n",
    "\n",
    "\n",
    "def get_data(keys):\n",
    "    return {k: example_data[k] for k in keys}"
   ]
  },
  {
   "cell_type": "code",
   "execution_count": 50,
   "metadata": {},
   "outputs": [
    {
     "name": "stdout",
     "output_type": "stream",
     "text": [
      "{'x_loss': {'src_c_loss0': 0.006591843441128731,\n",
      "            'src_c_loss1': 2.502946615219116,\n",
      "            'total': 1.254769206047058},\n",
      " 'y_loss': {'discrepancy_loss': -0.4307219982147217,\n",
      "            'src_c_loss0': 0.005981766618788242,\n",
      "            'src_c_loss1': 2.2412302494049072,\n",
      "            'total': 0.6054966449737549},\n",
      " 'z_loss': {'discrepancy_loss': 0.2203170657157898,\n",
      "            'total': 0.2203170657157898}}\n"
     ]
    }
   ],
   "source": [
    "# MCD needs 2 classifiers\n",
    "C_ = MultipleModels(C, c_f.reinit(copy.deepcopy(C)))\n",
    "C_opt_ = torch.optim.Adam(C_.parameters())\n",
    "loss_fn = SlicedWasserstein(m=128)\n",
    "\n",
    "hook = MCDHook(g_opts=[G_opt], c_opts=[C_opt_], discrepancy_loss_fn=loss_fn)\n",
    "\n",
    "models = {\"G\": G, \"C\": C_}\n",
    "data = get_data([\"src_imgs\", \"target_imgs\", \"src_labels\"])\n",
    "_, losses = hook({**models, **data})\n",
    "pprint(losses)"
   ]
  }
 ],
 "metadata": {
  "kernelspec": {
   "display_name": "Python 3",
   "language": "python",
   "name": "python3"
  },
  "language_info": {
   "codemirror_mode": {
    "name": "ipython",
    "version": 3
   },
   "file_extension": ".py",
   "mimetype": "text/x-python",
   "name": "python",
   "nbconvert_exporter": "python",
   "pygments_lexer": "ipython3",
   "version": "3.10.8"
  },
  "orig_nbformat": 4
 },
 "nbformat": 4,
 "nbformat_minor": 2
}
