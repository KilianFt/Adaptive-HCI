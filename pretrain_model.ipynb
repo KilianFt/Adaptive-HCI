{
 "cells": [
  {
   "cell_type": "code",
   "execution_count": 310,
   "metadata": {},
   "outputs": [],
   "source": [
    "import numpy as np\n",
    "import matplotlib.pyplot as plt\n",
    "import pickle\n",
    "import seaborn as sns\n",
    "import os"
   ]
  },
  {
   "cell_type": "markdown",
   "metadata": {},
   "source": [
    "## MyoArmband Dataset"
   ]
  },
  {
   "cell_type": "code",
   "execution_count": 5,
   "metadata": {},
   "outputs": [],
   "source": [
    "train_path = 'datasets/MyoArmbandDataset/PreTrainingDataset/'\n",
    "train_candidates = 12\n",
    "eval_path = 'datasets/MyoArmbandDataset/EvaluationDataset/'\n",
    "eval_candidates = 15"
   ]
  },
  {
   "cell_type": "code",
   "execution_count": 411,
   "metadata": {},
   "outputs": [],
   "source": [
    "def get_raw_dataset(eval_path):\n",
    "    person_folders = os.listdir(eval_path)\n",
    "\n",
    "    first_folder = os.listdir(eval_path)[0]\n",
    "    keys = next(os.walk((eval_path+first_folder)))[1]\n",
    "\n",
    "    number_of_classes = 7\n",
    "    number_of_vector_per_example = 200\n",
    "    size_non_overlap = 50\n",
    "\n",
    "    raw_dataset_dict = {}\n",
    "    for key in keys:\n",
    "            \n",
    "        raw_dataset = {\n",
    "            'examples': [],\n",
    "            'labels': [],\n",
    "        }\n",
    "        list_dataset = []\n",
    "        list_labels = []\n",
    "        for person_dir in person_folders:\n",
    "            examples = []\n",
    "            labels = []\n",
    "            data_path = eval_path + person_dir + '/' + key\n",
    "            for data_file in os.listdir(data_path):\n",
    "                if (data_file.endswith(\".dat\")):\n",
    "                    data_read_from_file = np.fromfile((data_path+'/'+data_file), dtype=np.int16)\n",
    "                    data_read_from_file = np.array(data_read_from_file, dtype=np.float32)\n",
    "\n",
    "                    dataset_example_formatted = []\n",
    "                    example = []\n",
    "                    emg_vector = []\n",
    "                    for value in data_read_from_file:\n",
    "                        emg_vector.append(value)\n",
    "                        if (len(emg_vector) >= 8):\n",
    "                            if (example == []):\n",
    "                                example = emg_vector\n",
    "                            else:\n",
    "                                example = np.row_stack((example, emg_vector))\n",
    "                            emg_vector = []\n",
    "                            if (len(example) >= number_of_vector_per_example):\n",
    "                                example = example.transpose()\n",
    "                                dataset_example_formatted.append(example)\n",
    "                                example = example.transpose()\n",
    "                                example = example[size_non_overlap:]\n",
    "                    dataset_example_formatted = np.array(dataset_example_formatted)\n",
    "                    examples.append(dataset_example_formatted)\n",
    "                    data_file_index = int(data_file.split('classe_')[1][:-4])\n",
    "                    label = data_file_index % number_of_classes + np.zeros(dataset_example_formatted.shape[0])\n",
    "                    labels.append(label)\n",
    "\n",
    "            raw_dataset['examples'].append(np.concatenate(examples))\n",
    "            raw_dataset['labels'].append(np.concatenate(labels))\n",
    "\n",
    "        raw_dataset_dict[key] = raw_dataset\n",
    "\n",
    "    return raw_dataset_dict"
   ]
  },
  {
   "cell_type": "code",
   "execution_count": 412,
   "metadata": {},
   "outputs": [
    {
     "name": "stderr",
     "output_type": "stream",
     "text": [
      "/var/folders/k8/_qw1v4gj2cv9cqh75_yrt3pc0000gn/T/ipykernel_31040/548029492.py:35: DeprecationWarning: elementwise comparison failed; this will raise an error in the future.\n",
      "  if (example == []):\n"
     ]
    }
   ],
   "source": [
    "eval_raw_dataset_dict = get_raw_dataset(eval_path)"
   ]
  },
  {
   "cell_type": "code",
   "execution_count": 60,
   "metadata": {},
   "outputs": [
    {
     "name": "stderr",
     "output_type": "stream",
     "text": [
      "/var/folders/k8/_qw1v4gj2cv9cqh75_yrt3pc0000gn/T/ipykernel_31040/3666496798.py:35: DeprecationWarning: elementwise comparison failed; this will raise an error in the future.\n",
      "  if (example == []):\n"
     ]
    }
   ],
   "source": [
    "train_raw_dataset_dict = get_raw_dataset(train_path)"
   ]
  },
  {
   "cell_type": "code",
   "execution_count": 414,
   "metadata": {},
   "outputs": [
    {
     "data": {
      "text/plain": [
       "22"
      ]
     },
     "execution_count": 414,
     "metadata": {},
     "output_type": "execute_result"
    }
   ],
   "source": [
    "len(train_raw_dataset_dict['training0']['examples'])"
   ]
  },
  {
   "cell_type": "code",
   "execution_count": 415,
   "metadata": {},
   "outputs": [
    {
     "data": {
      "text/plain": [
       "18"
      ]
     },
     "execution_count": 415,
     "metadata": {},
     "output_type": "execute_result"
    }
   ],
   "source": [
    "len(eval_raw_dataset_dict['training0']['examples'])"
   ]
  },
  {
   "cell_type": "code",
   "execution_count": 417,
   "metadata": {},
   "outputs": [
    {
     "data": {
      "text/plain": [
       "(454, 8, 200)"
      ]
     },
     "execution_count": 417,
     "metadata": {},
     "output_type": "execute_result"
    }
   ],
   "source": [
    "eval_raw_dataset_dict['training0']['examples'][0].shape"
   ]
  },
  {
   "cell_type": "code",
   "execution_count": 83,
   "metadata": {},
   "outputs": [],
   "source": [
    "# all people\n",
    "train_x = np.concatenate(eval_raw_dataset_dict['training0']['examples'])\n",
    "train_y = np.concatenate(eval_raw_dataset_dict['training0']['labels'])\n",
    "test_x = np.concatenate(eval_raw_dataset_dict['Test0']['examples'])\n",
    "test_y = np.concatenate(eval_raw_dataset_dict['Test0']['labels'])"
   ]
  },
  {
   "cell_type": "code",
   "execution_count": 66,
   "metadata": {},
   "outputs": [],
   "source": [
    "# all people eval + training\n",
    "train_x = np.concatenate(eval_raw_dataset_dict['training0']['examples']+train_raw_dataset_dict['training0']['examples'])\n",
    "train_y = np.concatenate(eval_raw_dataset_dict['training0']['labels']+train_raw_dataset_dict['training0']['labels'])\n",
    "test_x = np.concatenate(eval_raw_dataset_dict['Test0']['examples'])\n",
    "test_y = np.concatenate(eval_raw_dataset_dict['Test0']['labels'])"
   ]
  },
  {
   "cell_type": "markdown",
   "metadata": {},
   "source": [
    "## Nina Pro DB5"
   ]
  },
  {
   "cell_type": "code",
   "execution_count": 311,
   "metadata": {},
   "outputs": [],
   "source": [
    "from scipy.io import loadmat"
   ]
  },
  {
   "cell_type": "code",
   "execution_count": 313,
   "metadata": {},
   "outputs": [],
   "source": [
    "emg_min = -128.\n",
    "emg_max = 127.\n",
    "\n",
    "sampling_rate = 200 # Hz\n",
    "window_length = sampling_rate # 1 second\n",
    "overlap = 50\n",
    "stride = window_length - overlap"
   ]
  },
  {
   "cell_type": "code",
   "execution_count": 359,
   "metadata": {},
   "outputs": [],
   "source": [
    "def create_window_dataset(X, y):\n",
    "    features_dataset = {key: [] for key in np.unique(y)}\n",
    "    last_class_idx = None\n",
    "    consequetive_features = []\n",
    "\n",
    "    for class_idx, feature in zip(y, X):\n",
    "        if class_idx != last_class_idx:\n",
    "            if consequetive_features:\n",
    "                features_dataset[class_idx].append(np.array(consequetive_features))\n",
    "            consequetive_features = [feature]\n",
    "            last_class_idx = class_idx\n",
    "        else:\n",
    "            consequetive_features.append(feature)\n",
    "\n",
    "    if consequetive_features:\n",
    "        features_dataset[class_idx].append(np.array(consequetive_features))\n",
    "\n",
    "    windows = []\n",
    "    labels = []\n",
    "    for class_idx, feature_list in features_dataset.items():\n",
    "        for consequetive_features in feature_list:\n",
    "            num_windows = (consequetive_features.shape[0] - window_length) // stride + 1\n",
    "            for i in range(num_windows):\n",
    "                start = i * stride\n",
    "                end = start + window_length\n",
    "                window = consequetive_features[start:end, :]\n",
    "                windows.append(window)\n",
    "                labels.append(class_idx)\n",
    "\n",
    "    return np.array(windows, dtype=np.float32), np.array(labels, dtype=int)"
   ]
  },
  {
   "cell_type": "code",
   "execution_count": 383,
   "metadata": {},
   "outputs": [
    {
     "name": "stdout",
     "output_type": "stream",
     "text": [
      "S5_E1_A1.mat\n",
      "S2_E1_A1.mat\n",
      "S3_E1_A1.mat\n",
      "S4_E1_A1.mat\n",
      "S10_E1_A1.mat\n",
      "S8_E1_A1.mat\n",
      "S1_E1_A1.mat\n",
      "S6_E1_A1.mat\n",
      "S7_E1_A1.mat\n",
      "S9_E1_A1.mat\n"
     ]
    }
   ],
   "source": [
    "windows = None\n",
    "lables = None\n",
    "\n",
    "ninapro_base_dir = 'datasets/NinaProDB5/'\n",
    "ninapro_person_dirs = next(os.walk(ninapro_base_dir))[1]\n",
    "for nina_person_dir in ninapro_person_dirs:\n",
    "    subject_id = nina_person_dir[-1]\n",
    "    files = os.listdir(ninapro_base_dir + nina_person_dir)\n",
    "    for file in files:\n",
    "        if file.endswith('E1_A1.mat'):\n",
    "            print(file)\n",
    "            filepath = ninapro_base_dir + nina_person_dir + '/' + file\n",
    "\n",
    "            ninapro_s1 = loadmat(filepath)\n",
    "\n",
    "            ninapro_s_x_raw = ninapro_s1['emg'][:, :8]\n",
    "            ninapro_s_x = np.interp(ninapro_s_x_raw, (emg_min, emg_max), (-1, +1))\n",
    "            ninapro_s_y = ninapro_s1['restimulus'].squeeze()\n",
    "\n",
    "            subject_windows, subject_labels = create_window_dataset(X = ninapro_s_x, y = ninapro_s_y)\n",
    "\n",
    "            if windows is None:\n",
    "                windows = subject_windows\n",
    "                labels = subject_labels\n",
    "            else:\n",
    "                windows = np.concatenate((windows, subject_windows))\n",
    "                labels = np.concatenate((labels, subject_labels))\n",
    "\n",
    "windows = windows.swapaxes(1,2)"
   ]
  },
  {
   "cell_type": "code",
   "execution_count": 384,
   "metadata": {},
   "outputs": [
    {
     "data": {
      "text/plain": [
       "((8515, 8, 200), (8515,))"
      ]
     },
     "execution_count": 384,
     "metadata": {},
     "output_type": "execute_result"
    }
   ],
   "source": [
    "windows.shape, labels.shape"
   ]
  },
  {
   "cell_type": "code",
   "execution_count": 387,
   "metadata": {},
   "outputs": [
    {
     "data": {
      "text/plain": [
       "array([ 0,  1,  2,  3,  4,  5,  6,  7,  8,  9, 10, 11, 12])"
      ]
     },
     "execution_count": 387,
     "metadata": {},
     "output_type": "execute_result"
    }
   ],
   "source": [
    "np.unique(labels)"
   ]
  },
  {
   "cell_type": "code",
   "execution_count": 388,
   "metadata": {},
   "outputs": [],
   "source": [
    "from sklearn.model_selection import train_test_split\n",
    "train_x, test_x, train_y, test_y = train_test_split(windows, labels)"
   ]
  },
  {
   "cell_type": "code",
   "execution_count": 389,
   "metadata": {},
   "outputs": [],
   "source": [
    "import torch\n",
    "from torch.utils.data import Dataset\n",
    "from torch.utils.data import DataLoader\n",
    "\n",
    "class CustomEMGDataset(Dataset):\n",
    "    def __init__(self, x_samples, y_samples):\n",
    "        self.x_samples = x_samples\n",
    "        self.y_samples = y_samples\n",
    "\n",
    "    def __len__(self):\n",
    "        return len(self.x_samples)\n",
    "    \n",
    "    def __getitem__(self, idx):\n",
    "        x_tensor = torch.tensor(self.x_samples[idx,:,:])\n",
    "        y_tensor = torch.tensor(self.y_samples[idx]).type(torch.LongTensor)\n",
    "        return x_tensor, y_tensor"
   ]
  },
  {
   "cell_type": "code",
   "execution_count": 390,
   "metadata": {},
   "outputs": [],
   "source": [
    "train_dataset = CustomEMGDataset(train_x, train_y)\n",
    "train_dataloader = DataLoader(train_dataset, batch_size=32, shuffle=True)\n",
    "\n",
    "test_dataset = CustomEMGDataset(test_x, test_y)\n",
    "test_dataloader = DataLoader(test_dataset, batch_size=32, shuffle=True)"
   ]
  },
  {
   "cell_type": "code",
   "execution_count": 391,
   "metadata": {},
   "outputs": [],
   "source": [
    "x, y = next(iter(test_dataloader))"
   ]
  },
  {
   "cell_type": "code",
   "execution_count": 392,
   "metadata": {},
   "outputs": [
    {
     "data": {
      "text/plain": [
       "<AxesSubplot:>"
      ]
     },
     "execution_count": 392,
     "metadata": {},
     "output_type": "execute_result"
    },
    {
     "data": {
      "image/png": "[encoded data removed]",
      "text/plain": [
       "<Figure size 640x480 with 2 Axes>"
      ]
     },
     "metadata": {},
     "output_type": "display_data"
    }
   ],
   "source": [
    "sns.heatmap(x[0,:,:])"
   ]
  },
  {
   "cell_type": "code",
   "execution_count": 393,
   "metadata": {},
   "outputs": [],
   "source": [
    "import torch\n",
    "import torch.nn as nn"
   ]
  },
  {
   "cell_type": "code",
   "execution_count": 394,
   "metadata": {},
   "outputs": [],
   "source": [
    "class FFNN(nn.Module):\n",
    "    def __init__(self, input_size, hidden_size, output_size):\n",
    "        super(FFNN, self).__init__()\n",
    "        self.flatten = nn.Flatten(start_dim=1)\n",
    "        self.linear_relu_stack = nn.Sequential(\n",
    "            nn.Linear(input_size, hidden_size),\n",
    "            nn.ReLU(),\n",
    "            nn.Linear(hidden_size, hidden_size),\n",
    "            nn.ReLU(),\n",
    "            nn.Linear(hidden_size, output_size),\n",
    "        )\n",
    "\n",
    "    def forward(self, x):\n",
    "        x = self.flatten(x)\n",
    "        out = self.linear_relu_stack(x)\n",
    "        return out"
   ]
  },
  {
   "cell_type": "code",
   "execution_count": 400,
   "metadata": {},
   "outputs": [],
   "source": [
    "train_features, train_labels = next(iter(train_dataloader))"
   ]
  },
  {
   "cell_type": "code",
   "execution_count": 354,
   "metadata": {},
   "outputs": [],
   "source": [
    "device = 'mps'"
   ]
  },
  {
   "cell_type": "code",
   "execution_count": 404,
   "metadata": {},
   "outputs": [],
   "source": [
    "model = FFNN(200*8, 128, 13).to(device)"
   ]
  },
  {
   "cell_type": "code",
   "execution_count": 406,
   "metadata": {},
   "outputs": [
    {
     "data": {
      "text/plain": [
       "torch.Size([32, 13])"
      ]
     },
     "execution_count": 406,
     "metadata": {},
     "output_type": "execute_result"
    }
   ],
   "source": [
    "model(train_features.to(device)).shape"
   ]
  },
  {
   "cell_type": "code",
   "execution_count": 408,
   "metadata": {},
   "outputs": [],
   "source": [
    "import torch\n",
    "from vit_pytorch import ViT\n",
    "\n",
    "model = ViT(\n",
    "    image_size = 200,\n",
    "    patch_size = 4,\n",
    "    num_classes = 13,\n",
    "    dim = 64,\n",
    "    depth = 2,\n",
    "    heads = 4,\n",
    "    mlp_dim = 128,\n",
    "    dropout = 0.1,\n",
    "    emb_dropout = 0.1,\n",
    "    channels=1,\n",
    ").to(device) \n",
    "\n",
    "img = torch.randn(10, 1, 8, 200).to(device)\n",
    "\n",
    "preds = model(img)"
   ]
  },
  {
   "cell_type": "code",
   "execution_count": 409,
   "metadata": {},
   "outputs": [],
   "source": [
    "import torch.optim as optim\n",
    "from sklearn.metrics import accuracy_score\n",
    "\n",
    "criterion = nn.CrossEntropyLoss()\n",
    "optimizer = optim.Adam(model.parameters(), lr=1e-3)"
   ]
  },
  {
   "cell_type": "code",
   "execution_count": 410,
   "metadata": {},
   "outputs": [
    {
     "name": "stdout",
     "output_type": "stream",
     "text": [
      "test accuracy 0.38504170324846354\n",
      "test accuracy 0.39845807726075505\n",
      "test accuracy 0.40317712906057945\n",
      "test accuracy 0.41618195785776996\n",
      "test accuracy 0.4038904741000878\n",
      "test accuracy 0.39928116769095695\n",
      "test accuracy 0.37928007023705\n",
      "test accuracy 0.39928116769095695\n",
      "test accuracy 0.41083187006145744\n",
      "test accuracy 0.39810140474100086\n",
      "test accuracy 0.40068042142230026\n",
      "test accuracy 0.4021894205443371\n",
      "test accuracy 0.40084503950834066\n",
      "test accuracy 0.4062225636523266\n",
      "test accuracy 0.41758121158911327\n",
      "test accuracy 0.40196992976295\n",
      "test accuracy 0.4115177787532923\n",
      "test accuracy 0.41700504828797186\n",
      "test accuracy 0.405975636523266\n",
      "test accuracy 0.4145906496927129\n",
      "test accuracy 0.40690847234416155\n",
      "test accuracy 0.40188762071992973\n",
      "test accuracy 0.4098990342405619\n",
      "test accuracy 0.39933604038630377\n",
      "test accuracy 0.41058494293239683\n",
      "test accuracy 0.37969161545215097\n",
      "test accuracy 0.3935744073748903\n",
      "test accuracy 0.39332748024582964\n",
      "test accuracy 0.39741549604916593\n",
      "test accuracy 0.39264157155399476\n",
      "test accuracy 0.3929159350307287\n",
      "test accuracy 0.386797629499561\n",
      "test accuracy 0.3867427568042142\n",
      "test accuracy 0.3880871378402107\n",
      "test accuracy 0.3935744073748903\n",
      "test accuracy 0.3997475856014047\n",
      "test accuracy 0.36010206321334504\n",
      "test accuracy 0.3961259877085162\n",
      "test accuracy 0.39722344161545214\n",
      "test accuracy 0.39741549604916593\n",
      "Finished Training\n"
     ]
    }
   ],
   "source": [
    "history = {\n",
    "    'accs': [],\n",
    "    'losses': [],\n",
    "}\n",
    "\n",
    "for epoch in range(40):  # loop over the dataset multiple times\n",
    "\n",
    "    running_loss = 0.0\n",
    "    for i, data in enumerate(train_dataloader, 0):\n",
    "        model.train()\n",
    "        # get the inputs; data is a list of [inputs, labels]\n",
    "        train_inputs, train_labels = data\n",
    "        train_inputs = train_inputs.to(device)\n",
    "        train_labels = train_labels.to(device)\n",
    "\n",
    "        if model.__class__.__name__ == 'ViT':\n",
    "            train_inputs.unsqueeze_(axis=1)\n",
    "        # zero the parameter gradients\n",
    "        optimizer.zero_grad()\n",
    "\n",
    "        # forward + backward + optimize\n",
    "        outputs = model(train_inputs)\n",
    "        loss = criterion(outputs, train_labels)\n",
    "        loss.backward()\n",
    "        optimizer.step()\n",
    "\n",
    "        # print statistics\n",
    "        running_loss += loss.item()\n",
    "        history['losses'].append(loss.item())\n",
    "        if i % 1000 == 999:    # print every 100 mini-batches\n",
    "            print(f'[{epoch + 1}, {i + 1:5d}] loss: {running_loss / 1000:.8f}')\n",
    "            running_loss = 0.0\n",
    "\n",
    "    accs = []\n",
    "    for data in test_dataloader:\n",
    "        test_inputs, test_labels = data\n",
    "        test_inputs = test_inputs.to(device)\n",
    "        test_labels = test_labels.to(device)\n",
    "        if model.__class__.__name__ == 'ViT':\n",
    "            test_inputs.unsqueeze_(axis=1)\n",
    "        model.eval()\n",
    "        with torch.no_grad():\n",
    "            outputs = model(test_inputs)\n",
    "            predicted_labels = outputs.cpu().max(dim=1).indices\n",
    "\n",
    "        test_labels = test_labels.cpu()\n",
    "        acc = accuracy_score(test_labels, predicted_labels)\n",
    "        accs.append(acc)\n",
    "\n",
    "    history['accs'].append( np.mean(accs))\n",
    "    print('test accuracy', np.mean(accs))\n",
    "\n",
    "print('Finished Training')"
   ]
  },
  {
   "cell_type": "code",
   "execution_count": 413,
   "metadata": {},
   "outputs": [
    {
     "data": {
      "text/plain": [
       "[<matplotlib.lines.Line2D object at 0x2ebb06710>]"
      ]
     },
     "execution_count": 413,
     "metadata": {},
     "output_type": "execute_result"
    },
    {
     "data": {
      "image/png": "[encoded data removed]",
      "text/plain": [
       "<Figure size 640x480 with 1 Axes>"
      ]
     },
     "metadata": {},
     "output_type": "display_data"
    }
   ],
   "source": [
    "plt.plot(history['accs'])"
   ]
  },
  {
   "cell_type": "code",
   "execution_count": null,
   "metadata": {},
   "outputs": [],
   "source": [
    "plt.plot(history['losses'])"
   ]
  },
  {
   "cell_type": "code",
   "execution_count": 92,
   "metadata": {},
   "outputs": [],
   "source": [
    "import time"
   ]
  },
  {
   "cell_type": "code",
   "execution_count": 91,
   "metadata": {},
   "outputs": [],
   "source": [
    "single_test_dataloader = DataLoader(test_dataset, batch_size=1, shuffle=True)"
   ]
  },
  {
   "cell_type": "code",
   "execution_count": 94,
   "metadata": {},
   "outputs": [],
   "source": [
    "dts = []\n",
    "for data in single_test_dataloader:\n",
    "    inputs, labels = data\n",
    "    inputs = inputs.to(device)\n",
    "    labels = labels.to(device)\n",
    "    if model.__class__.__name__ == 'ViT':\n",
    "        inputs.unsqueeze_(axis=1)\n",
    "    model.eval()\n",
    "    start_time = time.time()\n",
    "    with torch.no_grad():\n",
    "        outputs = model(inputs)\n",
    "        predicted_labels = outputs.cpu().max(dim=1).indices\n",
    "\n",
    "    dt = time.time() - start_time\n",
    "    dts.append(dt)\n",
    "    # print('dt', dt)"
   ]
  },
  {
   "cell_type": "code",
   "execution_count": 101,
   "metadata": {},
   "outputs": [],
   "source": [
    "torch.save(model, 'pretained_vit.pt')"
   ]
  },
  {
   "cell_type": "code",
   "execution_count": 102,
   "metadata": {},
   "outputs": [],
   "source": [
    "model_state_dict = model.state_dict()\n",
    "torch.save(model_state_dict, 'pretained_vit_state_dict.pt')"
   ]
  },
  {
   "cell_type": "code",
   "execution_count": 96,
   "metadata": {},
   "outputs": [
    {
     "data": {
      "text/plain": [
       "0.0048601627349853516"
      ]
     },
     "execution_count": 96,
     "metadata": {},
     "output_type": "execute_result"
    }
   ],
   "source": [
    "dts = np.array(dts)\n",
    "dts[0]"
   ]
  },
  {
   "cell_type": "code",
   "execution_count": 105,
   "metadata": {},
   "outputs": [
    {
     "data": {
      "text/plain": [
       "(333.90465095197, 'Hz')"
      ]
     },
     "execution_count": 105,
     "metadata": {},
     "output_type": "execute_result"
    }
   ],
   "source": [
    "1 / dts[1:].mean(), 'Hz'"
   ]
  },
  {
   "cell_type": "markdown",
   "metadata": {},
   "source": [
    "# Transfer learning"
   ]
  },
  {
   "cell_type": "markdown",
   "metadata": {},
   "source": [
    "**TODO**\n",
    "Try if this improves performance"
   ]
  },
  {
   "cell_type": "code",
   "execution_count": 23,
   "metadata": {},
   "outputs": [],
   "source": [
    "import copy\n",
    "from pprint import pprint\n",
    "\n",
    "import torch\n",
    "\n",
    "# Models\n",
    "# Encoder\n",
    "G = torch.nn.Linear(1000, 100)\n",
    "# CLassification head\n",
    "C = torch.nn.Linear(100, 10)\n",
    "\n",
    "D = torch.nn.Sequential(torch.nn.Linear(100, 1), torch.nn.Flatten(start_dim=0))\n",
    "G_opt = torch.optim.Adam(G.parameters())\n",
    "C_opt = torch.optim.Adam(C.parameters())\n",
    "D_opt = torch.optim.Adam(D.parameters())\n",
    "\n",
    "dataset_size = 10000\n",
    "# 1 batch of data\n",
    "example_data = {\n",
    "    \"src_imgs\": torch.randn(32, 1000),\n",
    "    \"target_imgs\": torch.randn(32, 1000),\n",
    "    \"src_labels\": torch.randint(0, 10, size=(32,)),\n",
    "    \"src_domain\": torch.zeros(32),\n",
    "    \"target_domain\": torch.zeros(32),\n",
    "    \"src_sample_idx\": torch.randint(0, dataset_size, size=(32,)),\n",
    "    \"target_sample_idx\": torch.randint(0, dataset_size, size=(32,)),\n",
    "}\n",
    "\n",
    "\n",
    "def get_data(keys):\n",
    "    return {k: example_data[k] for k in keys}"
   ]
  },
  {
   "cell_type": "code",
   "execution_count": 24,
   "metadata": {},
   "outputs": [],
   "source": [
    "from pytorch_adapt.hooks import MCDHook\n",
    "from pytorch_adapt.layers import MultipleModels, SlicedWasserstein\n",
    "from pytorch_adapt.utils import common_functions as c_f"
   ]
  },
  {
   "cell_type": "code",
   "execution_count": 50,
   "metadata": {},
   "outputs": [
    {
     "name": "stdout",
     "output_type": "stream",
     "text": [
      "{'x_loss': {'src_c_loss0': 0.006591843441128731,\n",
      "            'src_c_loss1': 2.502946615219116,\n",
      "            'total': 1.254769206047058},\n",
      " 'y_loss': {'discrepancy_loss': -0.4307219982147217,\n",
      "            'src_c_loss0': 0.005981766618788242,\n",
      "            'src_c_loss1': 2.2412302494049072,\n",
      "            'total': 0.6054966449737549},\n",
      " 'z_loss': {'discrepancy_loss': 0.2203170657157898,\n",
      "            'total': 0.2203170657157898}}\n"
     ]
    }
   ],
   "source": [
    "# MCD needs 2 classifiers\n",
    "C_ = MultipleModels(C, c_f.reinit(copy.deepcopy(C)))\n",
    "C_opt_ = torch.optim.Adam(C_.parameters())\n",
    "loss_fn = SlicedWasserstein(m=128)\n",
    "\n",
    "hook = MCDHook(g_opts=[G_opt], c_opts=[C_opt_], discrepancy_loss_fn=loss_fn)\n",
    "\n",
    "models = {\"G\": G, \"C\": C_}\n",
    "data = get_data([\"src_imgs\", \"target_imgs\", \"src_labels\"])\n",
    "_, losses = hook({**models, **data})\n",
    "pprint(losses)"
   ]
  }
 ],
 "metadata": {
  "kernelspec": {
   "display_name": "Python 3",
   "language": "python",
   "name": "python3"
  },
  "language_info": {
   "codemirror_mode": {
    "name": "ipython",
    "version": 3
   },
   "file_extension": ".py",
   "mimetype": "text/x-python",
   "name": "python",
   "nbconvert_exporter": "python",
   "pygments_lexer": "ipython3",
   "version": "3.10.8"
  },
  "orig_nbformat": 4
 },
 "nbformat": 4,
 "nbformat_minor": 2
}
