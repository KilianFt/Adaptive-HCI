{
 "cells": [
  {
   "cell_type": "code",
   "execution_count": 2,
   "metadata": {},
   "outputs": [],
   "source": [
    "import numpy as np\n",
    "import matplotlib.pyplot as plt\n",
    "import pickle\n",
    "import seaborn as sns\n",
    "import os"
   ]
  },
  {
   "cell_type": "markdown",
   "metadata": {},
   "source": [
    "# MyoArmband Dataset"
   ]
  },
  {
   "cell_type": "code",
   "execution_count": 5,
   "metadata": {},
   "outputs": [],
   "source": [
    "train_path = 'datasets/MyoArmbandDataset/PreTrainingDataset/'\n",
    "train_candidates = 12\n",
    "eval_path = 'datasets/MyoArmbandDataset/EvaluationDataset/'\n",
    "eval_candidates = 15"
   ]
  },
  {
   "cell_type": "code",
   "execution_count": 54,
   "metadata": {},
   "outputs": [],
   "source": [
    "def get_raw_dataset(eval_path):\n",
    "    person_folders = os.listdir(eval_path)\n",
    "\n",
    "    first_folder = os.listdir(eval_path)[0]\n",
    "    keys = next(os.walk((eval_path+first_folder)))[1]\n",
    "\n",
    "    number_of_classes = 7\n",
    "    number_of_vector_per_example = 52\n",
    "    size_non_overlap = 5\n",
    "\n",
    "    raw_dataset_dict = {}\n",
    "    for key in keys:\n",
    "            \n",
    "        raw_dataset = {\n",
    "            'examples': [],\n",
    "            'labels': [],\n",
    "        }\n",
    "        list_dataset = []\n",
    "        list_labels = []\n",
    "        for person_dir in person_folders:\n",
    "            examples = []\n",
    "            labels = []\n",
    "            data_path = eval_path + person_dir + '/' + key\n",
    "            for data_file in os.listdir(data_path):\n",
    "                if (data_file.endswith(\".dat\")):\n",
    "                    data_read_from_file = np.fromfile((data_path+'/'+data_file), dtype=np.int16)\n",
    "                    data_read_from_file = np.array(data_read_from_file, dtype=np.float32)\n",
    "\n",
    "                    dataset_example_formatted = []\n",
    "                    example = []\n",
    "                    emg_vector = []\n",
    "                    for value in data_read_from_file:\n",
    "                        emg_vector.append(value)\n",
    "                        if (len(emg_vector) >= 8):\n",
    "                            if (example == []):\n",
    "                                example = emg_vector\n",
    "                            else:\n",
    "                                example = np.row_stack((example, emg_vector))\n",
    "                            emg_vector = []\n",
    "                            if (len(example) >= number_of_vector_per_example):\n",
    "                                example = example.transpose()\n",
    "                                dataset_example_formatted.append(example)\n",
    "                                example = example.transpose()\n",
    "                                example = example[size_non_overlap:]\n",
    "                    dataset_example_formatted = np.array(dataset_example_formatted)\n",
    "                    examples.append(dataset_example_formatted)\n",
    "                    data_file_index = int(data_file.split('classe_')[1][:-4])\n",
    "                    label = data_file_index % number_of_classes + np.zeros(dataset_example_formatted.shape[0])\n",
    "                    labels.append(label)\n",
    "\n",
    "            raw_dataset['examples'].append(np.concatenate(examples))\n",
    "            raw_dataset['labels'].append(np.concatenate(labels))\n",
    "\n",
    "        raw_dataset_dict[key] = raw_dataset\n",
    "\n",
    "    return raw_dataset_dict"
   ]
  },
  {
   "cell_type": "code",
   "execution_count": 59,
   "metadata": {},
   "outputs": [
    {
     "name": "stderr",
     "output_type": "stream",
     "text": [
      "/var/folders/k8/_qw1v4gj2cv9cqh75_yrt3pc0000gn/T/ipykernel_31040/3666496798.py:35: DeprecationWarning: elementwise comparison failed; this will raise an error in the future.\n",
      "  if (example == []):\n"
     ]
    }
   ],
   "source": [
    "eval_raw_dataset_dict = get_raw_dataset(eval_path)"
   ]
  },
  {
   "cell_type": "code",
   "execution_count": 60,
   "metadata": {},
   "outputs": [
    {
     "name": "stderr",
     "output_type": "stream",
     "text": [
      "/var/folders/k8/_qw1v4gj2cv9cqh75_yrt3pc0000gn/T/ipykernel_31040/3666496798.py:35: DeprecationWarning: elementwise comparison failed; this will raise an error in the future.\n",
      "  if (example == []):\n"
     ]
    }
   ],
   "source": [
    "train_raw_dataset_dict = get_raw_dataset(train_path)"
   ]
  },
  {
   "cell_type": "code",
   "execution_count": 62,
   "metadata": {},
   "outputs": [
    {
     "data": {
      "text/plain": [
       "22"
      ]
     },
     "execution_count": 62,
     "metadata": {},
     "output_type": "execute_result"
    }
   ],
   "source": [
    "len(train_raw_dataset_dict['training0']['examples'])"
   ]
  },
  {
   "cell_type": "code",
   "execution_count": 64,
   "metadata": {},
   "outputs": [
    {
     "data": {
      "text/plain": [
       "40"
      ]
     },
     "execution_count": 64,
     "metadata": {},
     "output_type": "execute_result"
    }
   ],
   "source": [
    "len(eval_raw_dataset_dict['training0']['examples'])"
   ]
  },
  {
   "cell_type": "code",
   "execution_count": 9,
   "metadata": {},
   "outputs": [],
   "source": [
    "import torch\n",
    "from torch.utils.data import Dataset\n",
    "from torch.utils.data import DataLoader\n",
    "\n",
    "class CustomEMGDataset(Dataset):\n",
    "    def __init__(self, x_samples, y_samples):\n",
    "        self.x_samples = x_samples\n",
    "        self.y_samples = y_samples\n",
    "\n",
    "    def __len__(self):\n",
    "        return len(self.x_samples)\n",
    "    \n",
    "    def __getitem__(self, idx):\n",
    "        x_tensor = torch.tensor(self.x_samples[idx,:,:])\n",
    "        y_tensor = torch.tensor(self.y_samples[idx]).type(torch.LongTensor)\n",
    "        return x_tensor, y_tensor"
   ]
  },
  {
   "cell_type": "code",
   "execution_count": null,
   "metadata": {},
   "outputs": [],
   "source": [
    "# single person\n",
    "train_x = raw_dataset_dict['training0']['examples'][0]\n",
    "train_y = raw_dataset_dict['training0']['labels'][0]\n",
    "test_x = raw_dataset_dict['Test0']['examples'][0]\n",
    "test_y = raw_dataset_dict['Test0']['labels'][0]"
   ]
  },
  {
   "cell_type": "code",
   "execution_count": 83,
   "metadata": {},
   "outputs": [],
   "source": [
    "# all people\n",
    "train_x = np.concatenate(eval_raw_dataset_dict['training0']['examples'])\n",
    "train_y = np.concatenate(raw_dataset_dict['training0']['labels'])\n",
    "test_x = np.concatenate(raw_dataset_dict['Test0']['examples'])\n",
    "test_y = np.concatenate(raw_dataset_dict['Test0']['labels'])"
   ]
  },
  {
   "cell_type": "code",
   "execution_count": 66,
   "metadata": {},
   "outputs": [],
   "source": [
    "# all people\n",
    "train_x = np.concatenate(eval_raw_dataset_dict['training0']['examples']+train_raw_dataset_dict['training0']['examples'])\n",
    "train_y = np.concatenate(raw_dataset_dict['training0']['labels']+train_raw_dataset_dict['training0']['labels'])\n",
    "test_x = np.concatenate(raw_dataset_dict['Test0']['examples'])\n",
    "test_y = np.concatenate(raw_dataset_dict['Test0']['labels'])"
   ]
  },
  {
   "cell_type": "code",
   "execution_count": null,
   "metadata": {},
   "outputs": [],
   "source": [
    "# TODO filter only labels we need\n"
   ]
  },
  {
   "cell_type": "code",
   "execution_count": 84,
   "metadata": {},
   "outputs": [],
   "source": [
    "train_dataset = CustomEMGDataset(train_x, train_y)\n",
    "train_dataloader = DataLoader(train_dataset, batch_size=32, shuffle=True)\n",
    "\n",
    "test_dataset = CustomEMGDataset(train_x, train_y)\n",
    "test_dataloader = DataLoader(test_dataset, batch_size=32, shuffle=True)"
   ]
  },
  {
   "cell_type": "code",
   "execution_count": 85,
   "metadata": {},
   "outputs": [],
   "source": [
    "x, y = next(iter(test_dataloader))"
   ]
  },
  {
   "cell_type": "code",
   "execution_count": 86,
   "metadata": {},
   "outputs": [
    {
     "data": {
      "text/plain": [
       "<AxesSubplot:>"
      ]
     },
     "execution_count": 86,
     "metadata": {},
     "output_type": "execute_result"
    },
    {
     "data": {
      "image/png": "[encoded data removed]",
      "text/plain": [
       "<Figure size 640x480 with 2 Axes>"
      ]
     },
     "metadata": {},
     "output_type": "display_data"
    }
   ],
   "source": [
    "sns.heatmap(x[0,:,:])"
   ]
  },
  {
   "cell_type": "code",
   "execution_count": 17,
   "metadata": {},
   "outputs": [],
   "source": [
    "import torch\n",
    "import torch.nn as nn"
   ]
  },
  {
   "cell_type": "code",
   "execution_count": 101,
   "metadata": {},
   "outputs": [],
   "source": [
    "class FFNN(nn.Module):\n",
    "    def __init__(self, input_size, hidden_size, output_size):\n",
    "        super(FFNN, self).__init__()\n",
    "        self.flatten = nn.Flatten(start_dim=1)\n",
    "        self.linear_relu_stack = nn.Sequential(\n",
    "            nn.Linear(input_size, hidden_size),\n",
    "            nn.ReLU(),\n",
    "            nn.Linear(hidden_size, hidden_size),\n",
    "            nn.ReLU(),\n",
    "            nn.Linear(hidden_size, output_size),\n",
    "        )\n",
    "\n",
    "    def forward(self, x):\n",
    "        x = self.flatten(x)\n",
    "        out = self.linear_relu_stack(x)\n",
    "        return out"
   ]
  },
  {
   "cell_type": "code",
   "execution_count": 102,
   "metadata": {},
   "outputs": [],
   "source": [
    "train_features, train_labels = next(iter(train_dataloader))"
   ]
  },
  {
   "cell_type": "code",
   "execution_count": 144,
   "metadata": {},
   "outputs": [],
   "source": [
    "model = FFNN(52*8, 128, number_of_classes)"
   ]
  },
  {
   "cell_type": "code",
   "execution_count": 145,
   "metadata": {},
   "outputs": [
    {
     "data": {
      "text/plain": [
       "torch.Size([32, 7])"
      ]
     },
     "execution_count": 145,
     "metadata": {},
     "output_type": "execute_result"
    }
   ],
   "source": [
    "model(train_features).shape"
   ]
  },
  {
   "cell_type": "code",
   "execution_count": 77,
   "metadata": {},
   "outputs": [],
   "source": [
    "device = 'mps'"
   ]
  },
  {
   "cell_type": "code",
   "execution_count": 87,
   "metadata": {},
   "outputs": [],
   "source": [
    "import torch\n",
    "from vit_pytorch import ViT\n",
    "\n",
    "model = ViT(\n",
    "    image_size = 52,\n",
    "    patch_size = 4,\n",
    "    num_classes = 7,\n",
    "    dim = 64,\n",
    "    depth = 2,\n",
    "    heads = 4,\n",
    "    mlp_dim = 128,\n",
    "    dropout = 0.1,\n",
    "    emb_dropout = 0.1,\n",
    "    channels=1,\n",
    ").to(device) \n",
    "\n",
    "img = torch.randn(10, 1, 8, 52).to(device)\n",
    "\n",
    "preds = model(img)"
   ]
  },
  {
   "cell_type": "code",
   "execution_count": 88,
   "metadata": {},
   "outputs": [],
   "source": [
    "import torch.optim as optim\n",
    "from sklearn.metrics import accuracy_score\n",
    "\n",
    "criterion = nn.CrossEntropyLoss()\n",
    "optimizer = optim.Adam(model.parameters(), lr=1e-3)"
   ]
  },
  {
   "cell_type": "code",
   "execution_count": 89,
   "metadata": {},
   "outputs": [
    {
     "name": "stdout",
     "output_type": "stream",
     "text": [
      "[1,  1000] loss: 1.17916353\n",
      "[1,  2000] loss: 0.80160099\n",
      "test accuracy 0.8225403028508151\n",
      "[2,  1000] loss: 0.55719111\n",
      "[2,  2000] loss: 0.49366789\n",
      "test accuracy 0.8819741314928793\n",
      "[3,  1000] loss: 0.39584781\n",
      "[3,  2000] loss: 0.36914397\n",
      "test accuracy 0.9102078558368314\n",
      "[4,  1000] loss: 0.32570548\n",
      "[4,  2000] loss: 0.30741461\n",
      "test accuracy 0.9089210295897607\n",
      "[5,  1000] loss: 0.27376763\n",
      "[5,  2000] loss: 0.28317430\n",
      "test accuracy 0.9506901702248204\n",
      "[6,  1000] loss: 0.26098932\n",
      "[6,  2000] loss: 0.25520269\n",
      "test accuracy 0.9497695140480544\n",
      "[7,  1000] loss: 0.24262830\n",
      "[7,  2000] loss: 0.23783706\n",
      "test accuracy 0.9494580682959491\n",
      "[8,  1000] loss: 0.22684495\n",
      "[8,  2000] loss: 0.23421521\n",
      "test accuracy 0.9600745860266282\n",
      "[9,  1000] loss: 0.21550799\n",
      "[9,  2000] loss: 0.21792765\n",
      "test accuracy 0.9619706226983595\n",
      "[10,  1000] loss: 0.20717899\n",
      "[10,  2000] loss: 0.20560316\n",
      "test accuracy 0.9624204887847339\n",
      "[11,  1000] loss: 0.19757751\n",
      "[11,  2000] loss: 0.20066606\n",
      "test accuracy 0.966882935026139\n",
      "[12,  1000] loss: 0.19713605\n",
      "[12,  2000] loss: 0.19424135\n",
      "test accuracy 0.9613018593391878\n",
      "[13,  1000] loss: 0.18156210\n",
      "[13,  2000] loss: 0.18906566\n",
      "test accuracy 0.9696054698565579\n",
      "[14,  1000] loss: 0.17816231\n",
      "[14,  2000] loss: 0.17950535\n",
      "test accuracy 0.9685359313435142\n",
      "[15,  1000] loss: 0.17541439\n",
      "[15,  2000] loss: 0.17734962\n",
      "test accuracy 0.9748598091730833\n",
      "[16,  1000] loss: 0.17383734\n",
      "[16,  2000] loss: 0.17403417\n",
      "test accuracy 0.9711643081558549\n",
      "[17,  1000] loss: 0.16175711\n",
      "[17,  2000] loss: 0.17101938\n",
      "test accuracy 0.9781529254976694\n",
      "[18,  1000] loss: 0.15568403\n",
      "[18,  2000] loss: 0.16717414\n",
      "test accuracy 0.9698171242048879\n",
      "[19,  1000] loss: 0.15609626\n",
      "[19,  2000] loss: 0.16069172\n",
      "test accuracy 0.9766882452164508\n",
      "[20,  1000] loss: 0.15498687\n",
      "[20,  2000] loss: 0.16057211\n",
      "test accuracy 0.9753153086451547\n",
      "[21,  1000] loss: 0.15473102\n",
      "[21,  2000] loss: 0.15314766\n",
      "test accuracy 0.9740308967062399\n",
      "[22,  1000] loss: 0.15290428\n",
      "[22,  2000] loss: 0.15390126\n",
      "test accuracy 0.9736961126419613\n",
      "[23,  1000] loss: 0.14746358\n",
      "[23,  2000] loss: 0.15260542\n",
      "test accuracy 0.9797431498029925\n",
      "[24,  1000] loss: 0.14440342\n",
      "[24,  2000] loss: 0.15052179\n",
      "test accuracy 0.9767115835286241\n"
     ]
    },
    {
     "ename": "KeyboardInterrupt",
     "evalue": "",
     "output_type": "error",
     "traceback": [
      "\u001b[0;31m---------------------------------------------------------------------------\u001b[0m",
      "\u001b[0;31mKeyboardInterrupt\u001b[0m                         Traceback (most recent call last)",
      "\u001b[0;32m/var/folders/k8/_qw1v4gj2cv9cqh75_yrt3pc0000gn/T/ipykernel_31040/4173677185.py\u001b[0m in \u001b[0;36m<cell line: 6>\u001b[0;34m()\u001b[0m\n\u001b[1;32m     12\u001b[0m         \u001b[0minputs\u001b[0m\u001b[0;34m,\u001b[0m \u001b[0mlabels\u001b[0m \u001b[0;34m=\u001b[0m \u001b[0mdata\u001b[0m\u001b[0;34m\u001b[0m\u001b[0;34m\u001b[0m\u001b[0m\n\u001b[1;32m     13\u001b[0m         \u001b[0minputs\u001b[0m \u001b[0;34m=\u001b[0m \u001b[0minputs\u001b[0m\u001b[0;34m.\u001b[0m\u001b[0mto\u001b[0m\u001b[0;34m(\u001b[0m\u001b[0mdevice\u001b[0m\u001b[0;34m)\u001b[0m\u001b[0;34m\u001b[0m\u001b[0;34m\u001b[0m\u001b[0m\n\u001b[0;32m---> 14\u001b[0;31m         \u001b[0mlabels\u001b[0m \u001b[0;34m=\u001b[0m \u001b[0mlabels\u001b[0m\u001b[0;34m.\u001b[0m\u001b[0mto\u001b[0m\u001b[0;34m(\u001b[0m\u001b[0mdevice\u001b[0m\u001b[0;34m)\u001b[0m\u001b[0;34m\u001b[0m\u001b[0;34m\u001b[0m\u001b[0m\n\u001b[0m\u001b[1;32m     15\u001b[0m \u001b[0;34m\u001b[0m\u001b[0m\n\u001b[1;32m     16\u001b[0m         \u001b[0;32mif\u001b[0m \u001b[0mmodel\u001b[0m\u001b[0;34m.\u001b[0m\u001b[0m__class__\u001b[0m\u001b[0;34m.\u001b[0m\u001b[0m__name__\u001b[0m \u001b[0;34m==\u001b[0m \u001b[0;34m'ViT'\u001b[0m\u001b[0;34m:\u001b[0m\u001b[0;34m\u001b[0m\u001b[0;34m\u001b[0m\u001b[0m\n",
      "\u001b[0;31mKeyboardInterrupt\u001b[0m: "
     ]
    }
   ],
   "source": [
    "history = {\n",
    "    'accs': [],\n",
    "    'losses': [],\n",
    "}\n",
    "\n",
    "for epoch in range(40):  # loop over the dataset multiple times\n",
    "\n",
    "    running_loss = 0.0\n",
    "    for i, data in enumerate(train_dataloader, 0):\n",
    "        model.train()\n",
    "        # get the inputs; data is a list of [inputs, labels]\n",
    "        inputs, labels = data\n",
    "        inputs = inputs.to(device)\n",
    "        labels = labels.to(device)\n",
    "\n",
    "        if model.__class__.__name__ == 'ViT':\n",
    "            inputs.unsqueeze_(axis=1)\n",
    "        # zero the parameter gradients\n",
    "        optimizer.zero_grad()\n",
    "\n",
    "        # forward + backward + optimize\n",
    "        outputs = model(inputs)\n",
    "        loss = criterion(outputs, labels)\n",
    "        loss.backward()\n",
    "        optimizer.step()\n",
    "\n",
    "        # print statistics\n",
    "        running_loss += loss.item()\n",
    "        history['losses'].append(loss.item())\n",
    "        if i % 1000 == 999:    # print every 100 mini-batches\n",
    "            print(f'[{epoch + 1}, {i + 1:5d}] loss: {running_loss / 1000:.8f}')\n",
    "            running_loss = 0.0\n",
    "\n",
    "    accs = []\n",
    "    for data in test_dataloader:\n",
    "        inputs, labels = data\n",
    "        inputs = inputs.to(device)\n",
    "        labels = labels.to(device)\n",
    "        if model.__class__.__name__ == 'ViT':\n",
    "            inputs.unsqueeze_(axis=1)\n",
    "        model.eval()\n",
    "        with torch.no_grad():\n",
    "            outputs = model(inputs)\n",
    "            predicted_labels = outputs.cpu().max(dim=1).indices\n",
    "\n",
    "        labels = labels.cpu()\n",
    "        acc = accuracy_score(labels, predicted_labels)\n",
    "        accs.append(acc)\n",
    "\n",
    "    history['accs'].append( np.mean(accs))\n",
    "    print('test accuracy', np.mean(accs))\n",
    "\n",
    "print('Finished Training')"
   ]
  },
  {
   "cell_type": "code",
   "execution_count": 90,
   "metadata": {},
   "outputs": [
    {
     "data": {
      "text/plain": [
       "[<matplotlib.lines.Line2D object at 0x2834ac400>]"
      ]
     },
     "execution_count": 90,
     "metadata": {},
     "output_type": "execute_result"
    },
    {
     "data": {
      "image/png": "[encoded data removed]",
      "text/plain": [
       "<Figure size 640x480 with 1 Axes>"
      ]
     },
     "metadata": {},
     "output_type": "display_data"
    }
   ],
   "source": [
    "plt.plot(history['accs'])"
   ]
  },
  {
   "cell_type": "code",
   "execution_count": null,
   "metadata": {},
   "outputs": [],
   "source": [
    "plt.plot(history['losses'])"
   ]
  },
  {
   "cell_type": "code",
   "execution_count": 92,
   "metadata": {},
   "outputs": [],
   "source": [
    "import time"
   ]
  },
  {
   "cell_type": "code",
   "execution_count": 91,
   "metadata": {},
   "outputs": [],
   "source": [
    "single_test_dataloader = DataLoader(test_dataset, batch_size=1, shuffle=True)"
   ]
  },
  {
   "cell_type": "code",
   "execution_count": 94,
   "metadata": {},
   "outputs": [],
   "source": [
    "dts = []\n",
    "for data in single_test_dataloader:\n",
    "    inputs, labels = data\n",
    "    inputs = inputs.to(device)\n",
    "    labels = labels.to(device)\n",
    "    if model.__class__.__name__ == 'ViT':\n",
    "        inputs.unsqueeze_(axis=1)\n",
    "    model.eval()\n",
    "    start_time = time.time()\n",
    "    with torch.no_grad():\n",
    "        outputs = model(inputs)\n",
    "        predicted_labels = outputs.cpu().max(dim=1).indices\n",
    "\n",
    "    dt = time.time() - start_time\n",
    "    dts.append(dt)\n",
    "    # print('dt', dt)"
   ]
  },
  {
   "cell_type": "code",
   "execution_count": 101,
   "metadata": {},
   "outputs": [],
   "source": [
    "torch.save(model, 'pretained_vit.pt')"
   ]
  },
  {
   "cell_type": "code",
   "execution_count": 102,
   "metadata": {},
   "outputs": [],
   "source": [
    "model_state_dict = model.state_dict()\n",
    "torch.save(model_state_dict, 'pretained_vit_state_dict.pt')"
   ]
  },
  {
   "cell_type": "code",
   "execution_count": 96,
   "metadata": {},
   "outputs": [
    {
     "data": {
      "text/plain": [
       "0.0048601627349853516"
      ]
     },
     "execution_count": 96,
     "metadata": {},
     "output_type": "execute_result"
    }
   ],
   "source": [
    "dts = np.array(dts)\n",
    "dts[0]"
   ]
  },
  {
   "cell_type": "code",
   "execution_count": 105,
   "metadata": {},
   "outputs": [
    {
     "data": {
      "text/plain": [
       "(333.90465095197, 'Hz')"
      ]
     },
     "execution_count": 105,
     "metadata": {},
     "output_type": "execute_result"
    }
   ],
   "source": [
    "1 / dts[1:].mean(), 'Hz'"
   ]
  },
  {
   "cell_type": "markdown",
   "metadata": {},
   "source": [
    "# Transfer learning"
   ]
  },
  {
   "cell_type": "markdown",
   "metadata": {},
   "source": [
    "**TODO**\n",
    "Try if this improves performance"
   ]
  },
  {
   "cell_type": "code",
   "execution_count": 23,
   "metadata": {},
   "outputs": [],
   "source": [
    "import copy\n",
    "from pprint import pprint\n",
    "\n",
    "import torch\n",
    "\n",
    "# Models\n",
    "# Encoder\n",
    "G = torch.nn.Linear(1000, 100)\n",
    "# CLassification head\n",
    "C = torch.nn.Linear(100, 10)\n",
    "\n",
    "D = torch.nn.Sequential(torch.nn.Linear(100, 1), torch.nn.Flatten(start_dim=0))\n",
    "G_opt = torch.optim.Adam(G.parameters())\n",
    "C_opt = torch.optim.Adam(C.parameters())\n",
    "D_opt = torch.optim.Adam(D.parameters())\n",
    "\n",
    "dataset_size = 10000\n",
    "# 1 batch of data\n",
    "example_data = {\n",
    "    \"src_imgs\": torch.randn(32, 1000),\n",
    "    \"target_imgs\": torch.randn(32, 1000),\n",
    "    \"src_labels\": torch.randint(0, 10, size=(32,)),\n",
    "    \"src_domain\": torch.zeros(32),\n",
    "    \"target_domain\": torch.zeros(32),\n",
    "    \"src_sample_idx\": torch.randint(0, dataset_size, size=(32,)),\n",
    "    \"target_sample_idx\": torch.randint(0, dataset_size, size=(32,)),\n",
    "}\n",
    "\n",
    "\n",
    "def get_data(keys):\n",
    "    return {k: example_data[k] for k in keys}"
   ]
  },
  {
   "cell_type": "code",
   "execution_count": 24,
   "metadata": {},
   "outputs": [],
   "source": [
    "from pytorch_adapt.hooks import MCDHook\n",
    "from pytorch_adapt.layers import MultipleModels, SlicedWasserstein\n",
    "from pytorch_adapt.utils import common_functions as c_f"
   ]
  },
  {
   "cell_type": "code",
   "execution_count": 50,
   "metadata": {},
   "outputs": [
    {
     "name": "stdout",
     "output_type": "stream",
     "text": [
      "{'x_loss': {'src_c_loss0': 0.006591843441128731,\n",
      "            'src_c_loss1': 2.502946615219116,\n",
      "            'total': 1.254769206047058},\n",
      " 'y_loss': {'discrepancy_loss': -0.4307219982147217,\n",
      "            'src_c_loss0': 0.005981766618788242,\n",
      "            'src_c_loss1': 2.2412302494049072,\n",
      "            'total': 0.6054966449737549},\n",
      " 'z_loss': {'discrepancy_loss': 0.2203170657157898,\n",
      "            'total': 0.2203170657157898}}\n"
     ]
    }
   ],
   "source": [
    "# MCD needs 2 classifiers\n",
    "C_ = MultipleModels(C, c_f.reinit(copy.deepcopy(C)))\n",
    "C_opt_ = torch.optim.Adam(C_.parameters())\n",
    "loss_fn = SlicedWasserstein(m=128)\n",
    "\n",
    "hook = MCDHook(g_opts=[G_opt], c_opts=[C_opt_], discrepancy_loss_fn=loss_fn)\n",
    "\n",
    "models = {\"G\": G, \"C\": C_}\n",
    "data = get_data([\"src_imgs\", \"target_imgs\", \"src_labels\"])\n",
    "_, losses = hook({**models, **data})\n",
    "pprint(losses)"
   ]
  }
 ],
 "metadata": {
  "kernelspec": {
   "display_name": "Python 3",
   "language": "python",
   "name": "python3"
  },
  "language_info": {
   "codemirror_mode": {
    "name": "ipython",
    "version": 3
   },
   "file_extension": ".py",
   "mimetype": "text/x-python",
   "name": "python",
   "nbconvert_exporter": "python",
   "pygments_lexer": "ipython3",
   "version": "3.10.8"
  },
  "orig_nbformat": 4
 },
 "nbformat": 4,
 "nbformat_minor": 2
}
